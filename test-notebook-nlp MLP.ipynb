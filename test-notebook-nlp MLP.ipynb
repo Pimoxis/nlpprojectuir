{
 "cells": [
  {
   "cell_type": "code",
   "execution_count": 1,
   "id": "a9456aca",
   "metadata": {
    "_cell_guid": "b1076dfc-b9ad-4769-8c92-a6c4dae69d19",
    "_uuid": "8f2839f25d086af736a60e9eeb907d3b93b6e0e5",
    "execution": {
     "iopub.execute_input": "2024-06-06T23:36:30.864448Z",
     "iopub.status.busy": "2024-06-06T23:36:30.863336Z",
     "iopub.status.idle": "2024-06-06T23:36:58.166033Z",
     "shell.execute_reply": "2024-06-06T23:36:58.164795Z"
    },
    "papermill": {
     "duration": 27.3121,
     "end_time": "2024-06-06T23:36:58.169193",
     "exception": false,
     "start_time": "2024-06-06T23:36:30.857093",
     "status": "completed"
    },
    "tags": []
   },
   "outputs": [
    {
     "name": "stderr",
     "output_type": "stream",
     "text": [
      "2024-06-06 23:36:43.053275: E external/local_xla/xla/stream_executor/cuda/cuda_dnn.cc:9261] Unable to register cuDNN factory: Attempting to register factory for plugin cuDNN when one has already been registered\n",
      "2024-06-06 23:36:43.053511: E external/local_xla/xla/stream_executor/cuda/cuda_fft.cc:607] Unable to register cuFFT factory: Attempting to register factory for plugin cuFFT when one has already been registered\n",
      "2024-06-06 23:36:43.242850: E external/local_xla/xla/stream_executor/cuda/cuda_blas.cc:1515] Unable to register cuBLAS factory: Attempting to register factory for plugin cuBLAS when one has already been registered\n"
     ]
    }
   ],
   "source": [
    "import pandas as pd\n",
    "import torch\n",
    "import numpy as np\n",
    "from transformers import AutoTokenizer, AutoModelForSequenceClassification, Trainer\n",
    "import string\n",
    "import spacy\n",
    "from sklearn.model_selection import train_test_split\n",
    "from sklearn.feature_extraction.text import CountVectorizer, TfidfVectorizer\n",
    "from sklearn.preprocessing import LabelEncoder\n",
    "from sklearn.metrics import classification_report, confusion_matrix\n",
    "from tensorflow.keras.models import Sequential\n",
    "from tensorflow.keras.layers import Input, Dense, Dropout\n",
    "from tensorflow.keras.regularizers import l2\n",
    "from tensorflow.keras.optimizers import Adam\n",
    "from tensorflow.keras.layers import BatchNormalization\n"
   ]
  },
  {
   "cell_type": "code",
   "execution_count": 2,
   "id": "55dae759",
   "metadata": {
    "execution": {
     "iopub.execute_input": "2024-06-06T23:36:58.180814Z",
     "iopub.status.busy": "2024-06-06T23:36:58.180028Z",
     "iopub.status.idle": "2024-06-06T23:37:00.772970Z",
     "shell.execute_reply": "2024-06-06T23:37:00.771608Z"
    },
    "papermill": {
     "duration": 2.602277,
     "end_time": "2024-06-06T23:37:00.776028",
     "exception": false,
     "start_time": "2024-06-06T23:36:58.173751",
     "status": "completed"
    },
    "tags": []
   },
   "outputs": [],
   "source": [
    "#test set\n",
    "test = pd.read_csv('/kaggle/input/llm-detect-ai-generated-text/test_essays.csv')\n",
    "#submission format\n",
    "sub = pd.read_csv('/kaggle/input/llm-detect-ai-generated-text/sample_submission.csv')\n",
    "#import data train\n",
    "org_train = pd.read_csv('/kaggle/input/llm-detect-ai-generated-text/train_essays.csv')\n",
    "train = pd.read_csv(\"/kaggle/input/datasetllm/train_v2_drcat_02.csv\", sep=',')"
   ]
  },
  {
   "cell_type": "code",
   "execution_count": 3,
   "id": "56ff3bd1",
   "metadata": {
    "execution": {
     "iopub.execute_input": "2024-06-06T23:37:00.786529Z",
     "iopub.status.busy": "2024-06-06T23:37:00.785965Z",
     "iopub.status.idle": "2024-06-06T23:37:02.661679Z",
     "shell.execute_reply": "2024-06-06T23:37:02.660317Z"
    },
    "papermill": {
     "duration": 1.885242,
     "end_time": "2024-06-06T23:37:02.665616",
     "exception": false,
     "start_time": "2024-06-06T23:37:00.780374",
     "status": "completed"
    },
    "tags": []
   },
   "outputs": [],
   "source": [
    "nlp = spacy.load(\"en_core_web_sm\")\n",
    "def clean_essay_spacy(essay):\n",
    "    # Remove punctuation and non-alphanumeric characters\n",
    "    essay = ''.join([char for char in essay if char not in string.punctuation and not char.isdigit()])\n",
    "\n",
    "    # Convert to lowercase and process with spaCy\n",
    "    doc = nlp(essay.lower())\n",
    "\n",
    "    # Lemmatization and removing stopwords\n",
    "    lemmatized_words = [token.lemma_ for token in doc if token.is_alpha and not token.is_stop]\n",
    "\n",
    "    # Remove extra spaces\n",
    "    cleaned_essay = ' '.join(lemmatized_words).strip()\n",
    "\n",
    "    return cleaned_essay"
   ]
  },
  {
   "cell_type": "code",
   "execution_count": 4,
   "id": "5ebbd6e7",
   "metadata": {
    "execution": {
     "iopub.execute_input": "2024-06-06T23:37:02.677062Z",
     "iopub.status.busy": "2024-06-06T23:37:02.676198Z",
     "iopub.status.idle": "2024-06-07T00:38:51.415603Z",
     "shell.execute_reply": "2024-06-07T00:38:51.414193Z"
    },
    "papermill": {
     "duration": 3708.752698,
     "end_time": "2024-06-07T00:38:51.422589",
     "exception": false,
     "start_time": "2024-06-06T23:37:02.669891",
     "status": "completed"
    },
    "tags": []
   },
   "outputs": [
    {
     "name": "stdout",
     "output_type": "stream",
     "text": [
      "Vocabulary size: 77604\n"
     ]
    }
   ],
   "source": [
    "cleaned_train_essays = []\n",
    "cleaned_test_essays = []\n",
    "cleaned_org_train_essays = []\n",
    "\n",
    "# Apply the cleaning function and accumulate cleaned essays\n",
    "train['cleaned_essay'] = train['text'].apply(clean_essay_spacy)\n",
    "cleaned_train_essays.extend(train['cleaned_essay'].tolist())\n",
    "\n",
    "test['cleaned_essay'] = test['text'].apply(clean_essay_spacy)\n",
    "cleaned_test_essays.extend(test['cleaned_essay'].tolist())\n",
    "\n",
    "org_train['cleaned_essay'] = org_train['text'].apply(clean_essay_spacy)\n",
    "cleaned_org_train_essays.extend(org_train['cleaned_essay'].tolist())\n",
    "\n",
    "# Build vocabulary of unique words from all cleaned essays\n",
    "all_cleaned_essays = cleaned_train_essays + cleaned_test_essays + cleaned_org_train_essays\n",
    "vocabulary = set(word for essay in all_cleaned_essays for word in essay.split())\n",
    "\n",
    "# Print the size of the vocabulary\n",
    "print(f\"Vocabulary size: {len(vocabulary)}\")"
   ]
  },
  {
   "cell_type": "code",
   "execution_count": 5,
   "id": "066e878f",
   "metadata": {
    "execution": {
     "iopub.execute_input": "2024-06-07T00:38:51.432762Z",
     "iopub.status.busy": "2024-06-07T00:38:51.432361Z",
     "iopub.status.idle": "2024-06-07T00:39:11.413812Z",
     "shell.execute_reply": "2024-06-07T00:39:11.412449Z"
    },
    "papermill": {
     "duration": 19.989452,
     "end_time": "2024-06-07T00:39:11.416167",
     "exception": false,
     "start_time": "2024-06-07T00:38:51.426715",
     "status": "completed"
    },
    "tags": []
   },
   "outputs": [
    {
     "name": "stdout",
     "output_type": "stream",
     "text": [
      "Train TF-IDF shape: (44868, 77578)\n",
      "Test TF-IDF shape: (3, 77578)\n",
      "Original Train TF-IDF shape: (1378, 77578)\n"
     ]
    }
   ],
   "source": [
    "from sklearn.feature_extraction.text import TfidfVectorizer\n",
    "\n",
    "# Initialize the TfidfVectorizer\n",
    "tfidf_vectorizer = TfidfVectorizer()\n",
    "\n",
    "# Fit and transform the documents\n",
    "tfidf_matrix = tfidf_vectorizer.fit_transform(all_cleaned_essays)\n",
    "\n",
    "# Now, if you need to transform the documents separately after fitting to the whole corpus\n",
    "train_tfidf = tfidf_vectorizer.transform(cleaned_train_essays)\n",
    "test_tfidf = tfidf_vectorizer.transform(cleaned_test_essays)\n",
    "org_train_tfidf = tfidf_vectorizer.transform(cleaned_org_train_essays)\n",
    "\n",
    "# Print the shape of the matrices\n",
    "print(\"Train TF-IDF shape:\", train_tfidf.shape)\n",
    "print(\"Test TF-IDF shape:\", test_tfidf.shape)\n",
    "print(\"Original Train TF-IDF shape:\", org_train_tfidf.shape)"
   ]
  },
  {
   "cell_type": "code",
   "execution_count": 6,
   "id": "0273a9d7",
   "metadata": {
    "execution": {
     "iopub.execute_input": "2024-06-07T00:39:11.426616Z",
     "iopub.status.busy": "2024-06-07T00:39:11.426161Z",
     "iopub.status.idle": "2024-06-07T01:19:01.982507Z",
     "shell.execute_reply": "2024-06-07T01:19:01.981153Z"
    },
    "papermill": {
     "duration": 2390.565082,
     "end_time": "2024-06-07T01:19:01.985601",
     "exception": false,
     "start_time": "2024-06-07T00:39:11.420519",
     "status": "completed"
    },
    "tags": []
   },
   "outputs": [
    {
     "name": "stdout",
     "output_type": "stream",
     "text": [
      "Epoch 1/10\n",
      "\u001b[1m1262/1262\u001b[0m \u001b[32m━━━━━━━━━━━━━━━━━━━━\u001b[0m\u001b[37m\u001b[0m \u001b[1m235s\u001b[0m 184ms/step - accuracy: 0.9368 - loss: 0.1573 - val_accuracy: 0.9002 - val_loss: 0.2523\n",
      "Epoch 2/10\n",
      "\u001b[1m1262/1262\u001b[0m \u001b[32m━━━━━━━━━━━━━━━━━━━━\u001b[0m\u001b[37m\u001b[0m \u001b[1m233s\u001b[0m 185ms/step - accuracy: 0.9846 - loss: 0.0484 - val_accuracy: 0.8320 - val_loss: 0.6028\n",
      "Epoch 3/10\n",
      "\u001b[1m1262/1262\u001b[0m \u001b[32m━━━━━━━━━━━━━━━━━━━━\u001b[0m\u001b[37m\u001b[0m \u001b[1m237s\u001b[0m 188ms/step - accuracy: 0.9928 - loss: 0.0245 - val_accuracy: 0.9445 - val_loss: 0.1641\n",
      "Epoch 4/10\n",
      "\u001b[1m1262/1262\u001b[0m \u001b[32m━━━━━━━━━━━━━━━━━━━━\u001b[0m\u001b[37m\u001b[0m \u001b[1m235s\u001b[0m 186ms/step - accuracy: 0.9918 - loss: 0.0265 - val_accuracy: 0.8830 - val_loss: 0.4357\n",
      "Epoch 5/10\n",
      "\u001b[1m1262/1262\u001b[0m \u001b[32m━━━━━━━━━━━━━━━━━━━━\u001b[0m\u001b[37m\u001b[0m \u001b[1m236s\u001b[0m 187ms/step - accuracy: 0.9936 - loss: 0.0204 - val_accuracy: 0.9505 - val_loss: 0.1861\n",
      "Epoch 6/10\n",
      "\u001b[1m1262/1262\u001b[0m \u001b[32m━━━━━━━━━━━━━━━━━━━━\u001b[0m\u001b[37m\u001b[0m \u001b[1m238s\u001b[0m 189ms/step - accuracy: 0.9931 - loss: 0.0228 - val_accuracy: 0.8819 - val_loss: 0.4658\n",
      "Epoch 7/10\n",
      "\u001b[1m1262/1262\u001b[0m \u001b[32m━━━━━━━━━━━━━━━━━━━━\u001b[0m\u001b[37m\u001b[0m \u001b[1m237s\u001b[0m 188ms/step - accuracy: 0.9958 - loss: 0.0135 - val_accuracy: 0.9434 - val_loss: 0.2638\n",
      "Epoch 8/10\n",
      "\u001b[1m1262/1262\u001b[0m \u001b[32m━━━━━━━━━━━━━━━━━━━━\u001b[0m\u001b[37m\u001b[0m \u001b[1m235s\u001b[0m 187ms/step - accuracy: 0.9962 - loss: 0.0140 - val_accuracy: 0.8995 - val_loss: 0.5025\n",
      "Epoch 9/10\n",
      "\u001b[1m1262/1262\u001b[0m \u001b[32m━━━━━━━━━━━━━━━━━━━━\u001b[0m\u001b[37m\u001b[0m \u001b[1m240s\u001b[0m 190ms/step - accuracy: 0.9964 - loss: 0.0137 - val_accuracy: 0.9496 - val_loss: 0.2374\n",
      "Epoch 10/10\n",
      "\u001b[1m1262/1262\u001b[0m \u001b[32m━━━━━━━━━━━━━━━━━━━━\u001b[0m\u001b[37m\u001b[0m \u001b[1m237s\u001b[0m 187ms/step - accuracy: 0.9972 - loss: 0.0110 - val_accuracy: 0.9450 - val_loss: 0.2533\n"
     ]
    }
   ],
   "source": [
    "from keras.models import Sequential\n",
    "from keras.layers import Dense, Dropout, BatchNormalization\n",
    "from keras.optimizers import Adam\n",
    "\n",
    "# Assuming `train_tfidf` and `test_tfidf` are your training and testing TF-IDF matrices\n",
    "# Use actual labels from your datasets\n",
    "y_train = train['label'].values\n",
    "\n",
    "# Build the model\n",
    "model = Sequential([\n",
    "    Input(shape=(train_tfidf.shape[1],)),  # Set input shape to the number of features in TF-IDF\n",
    "    Dense(256, activation='relu'),\n",
    "    BatchNormalization(),\n",
    "    Dropout(0.5),\n",
    "    Dense(128, activation='tanh'),\n",
    "    BatchNormalization(),\n",
    "    Dropout(0.5),\n",
    "    Dense(64, activation='relu'),\n",
    "    BatchNormalization(),\n",
    "    Dropout(0.5),\n",
    "    Dense(1, activation='sigmoid')  # Sigmoid activation for binary classification\n",
    "])\n",
    "\n",
    "# Compile the model\n",
    "model.compile(optimizer=Adam(), loss='binary_crossentropy', metrics=['accuracy'])\n",
    "\n",
    "# Train the model\n",
    "history = model.fit(train_tfidf, y_train, epochs=10, batch_size=32, validation_split=0.1)\n",
    "\n"
   ]
  },
  {
   "cell_type": "code",
   "execution_count": 7,
   "id": "5169aa6f",
   "metadata": {
    "execution": {
     "iopub.execute_input": "2024-06-07T01:19:04.587598Z",
     "iopub.status.busy": "2024-06-07T01:19:04.587156Z",
     "iopub.status.idle": "2024-06-07T01:19:04.994047Z",
     "shell.execute_reply": "2024-06-07T01:19:04.992637Z"
    },
    "papermill": {
     "duration": 1.646381,
     "end_time": "2024-06-07T01:19:04.997002",
     "exception": false,
     "start_time": "2024-06-07T01:19:03.350621",
     "status": "completed"
    },
    "tags": []
   },
   "outputs": [
    {
     "name": "stdout",
     "output_type": "stream",
     "text": [
      "\u001b[1m1/1\u001b[0m \u001b[32m━━━━━━━━━━━━━━━━━━━━\u001b[0m\u001b[37m\u001b[0m \u001b[1m0s\u001b[0m 218ms/step\n"
     ]
    }
   ],
   "source": [
    "import pandas as pd\n",
    "\n",
    "# Predict on the test set\n",
    "test_predictions = model.predict(test_tfidf).flatten()\n",
    "\n",
    "output_df = pd.DataFrame({\n",
    "    'id': test['id'],  # Ensure this matches the column name for the IDs in your test DataFrame\n",
    "    'probability': test_predictions  # This will be your model's predictions\n",
    "})\n",
    "\n",
    "# Save the updated DataFrame to a CSV file, ready for submission\n",
    "output_df.to_csv('submission.csv', index=False)"
   ]
  },
  {
   "cell_type": "code",
   "execution_count": null,
   "id": "349df70c",
   "metadata": {
    "papermill": {
     "duration": 1.347707,
     "end_time": "2024-06-07T01:19:07.597516",
     "exception": false,
     "start_time": "2024-06-07T01:19:06.249809",
     "status": "completed"
    },
    "tags": []
   },
   "outputs": [],
   "source": []
  }
 ],
 "metadata": {
  "kaggle": {
   "accelerator": "none",
   "dataSources": [
    {
     "databundleVersionId": 7516023,
     "sourceId": 61542,
     "sourceType": "competition"
    },
    {
     "datasetId": 5163625,
     "sourceId": 8625078,
     "sourceType": "datasetVersion"
    }
   ],
   "dockerImageVersionId": 30732,
   "isGpuEnabled": false,
   "isInternetEnabled": false,
   "language": "python",
   "sourceType": "notebook"
  },
  "kernelspec": {
   "display_name": "Python 3",
   "language": "python",
   "name": "python3"
  },
  "language_info": {
   "codemirror_mode": {
    "name": "ipython",
    "version": 3
   },
   "file_extension": ".py",
   "mimetype": "text/x-python",
   "name": "python",
   "nbconvert_exporter": "python",
   "pygments_lexer": "ipython3",
   "version": "3.10.13"
  },
  "papermill": {
   "default_parameters": {},
   "duration": 6163.989429,
   "end_time": "2024-06-07T01:19:11.555558",
   "environment_variables": {},
   "exception": null,
   "input_path": "__notebook__.ipynb",
   "output_path": "__notebook__.ipynb",
   "parameters": {},
   "start_time": "2024-06-06T23:36:27.566129",
   "version": "2.5.0"
  }
 },
 "nbformat": 4,
 "nbformat_minor": 5
}
