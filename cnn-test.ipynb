{
 "cells": [
  {
   "cell_type": "code",
   "execution_count": 1,
   "id": "be37a5e2",
   "metadata": {
    "_cell_guid": "b1076dfc-b9ad-4769-8c92-a6c4dae69d19",
    "_uuid": "8f2839f25d086af736a60e9eeb907d3b93b6e0e5",
    "execution": {
     "iopub.execute_input": "2024-06-07T23:21:56.700718Z",
     "iopub.status.busy": "2024-06-07T23:21:56.700224Z",
     "iopub.status.idle": "2024-06-07T23:22:25.197526Z",
     "shell.execute_reply": "2024-06-07T23:22:25.196319Z"
    },
    "papermill": {
     "duration": 28.505906,
     "end_time": "2024-06-07T23:22:25.200576",
     "exception": false,
     "start_time": "2024-06-07T23:21:56.694670",
     "status": "completed"
    },
    "tags": []
   },
   "outputs": [
    {
     "name": "stderr",
     "output_type": "stream",
     "text": [
      "2024-06-07 23:21:59.926092: E external/local_xla/xla/stream_executor/cuda/cuda_dnn.cc:9261] Unable to register cuDNN factory: Attempting to register factory for plugin cuDNN when one has already been registered\n",
      "2024-06-07 23:21:59.926220: E external/local_xla/xla/stream_executor/cuda/cuda_fft.cc:607] Unable to register cuFFT factory: Attempting to register factory for plugin cuFFT when one has already been registered\n",
      "2024-06-07 23:22:00.096595: E external/local_xla/xla/stream_executor/cuda/cuda_blas.cc:1515] Unable to register cuBLAS factory: Attempting to register factory for plugin cuBLAS when one has already been registered\n"
     ]
    }
   ],
   "source": [
    "import pandas as pd\n",
    "from tensorflow.keras.models import Sequential\n",
    "from tensorflow.keras.layers import Embedding, Conv1D, GlobalMaxPooling1D, Dense\n",
    "from tensorflow.keras.preprocessing.text import Tokenizer\n",
    "from tensorflow.keras.preprocessing.sequence import pad_sequences\n",
    "from tensorflow.keras.utils import to_categorical\n",
    "import torch\n",
    "import numpy as np\n",
    "from transformers import AutoTokenizer, AutoModelForSequenceClassification, Trainer\n",
    "import string\n",
    "import spacy\n",
    "from tensorflow.keras.optimizers import Adam\n",
    "\n",
    "\n",
    "#test set\n",
    "test = pd.read_csv('/kaggle/input/llm-detect-ai-generated-text/test_essays.csv')\n",
    "#submission format\n",
    "sub = pd.read_csv('/kaggle/input/llm-detect-ai-generated-text/sample_submission.csv')\n",
    "#import data train\n",
    "org_train = pd.read_csv('/kaggle/input/llm-detect-ai-generated-text/train_essays.csv')\n",
    "train = pd.read_csv(\"/kaggle/input/datasetllm/train_v2_drcat_02.csv\", sep=',')\n"
   ]
  },
  {
   "cell_type": "code",
   "execution_count": 2,
   "id": "8db0c21a",
   "metadata": {
    "execution": {
     "iopub.execute_input": "2024-06-07T23:22:25.209050Z",
     "iopub.status.busy": "2024-06-07T23:22:25.208569Z",
     "iopub.status.idle": "2024-06-07T23:22:26.970814Z",
     "shell.execute_reply": "2024-06-07T23:22:26.969541Z"
    },
    "papermill": {
     "duration": 1.769773,
     "end_time": "2024-06-07T23:22:26.973744",
     "exception": false,
     "start_time": "2024-06-07T23:22:25.203971",
     "status": "completed"
    },
    "tags": []
   },
   "outputs": [],
   "source": [
    "nlp = spacy.load(\"en_core_web_sm\")\n",
    "def clean_essay_spacy(essay):\n",
    "    # Remove punctuation and non-alphanumeric characters\n",
    "    essay = ''.join([char for char in essay if char not in string.punctuation and not char.isdigit()])\n",
    "\n",
    "    # Convert to lowercase and process with spaCy\n",
    "    doc = nlp(essay.lower())\n",
    "\n",
    "    # Lemmatization and removing stopwords\n",
    "    lemmatized_words = [token.lemma_ for token in doc if token.is_alpha and not token.is_stop]\n",
    "\n",
    "    # Remove extra spaces\n",
    "    cleaned_essay = ' '.join(lemmatized_words).strip()\n",
    "\n",
    "    return cleaned_essay"
   ]
  },
  {
   "cell_type": "code",
   "execution_count": 3,
   "id": "ec6afa28",
   "metadata": {
    "execution": {
     "iopub.execute_input": "2024-06-07T23:22:26.982108Z",
     "iopub.status.busy": "2024-06-07T23:22:26.981660Z",
     "iopub.status.idle": "2024-06-08T00:19:58.625966Z",
     "shell.execute_reply": "2024-06-08T00:19:58.624588Z"
    },
    "papermill": {
     "duration": 3451.654722,
     "end_time": "2024-06-08T00:19:58.631799",
     "exception": false,
     "start_time": "2024-06-07T23:22:26.977077",
     "status": "completed"
    },
    "tags": []
   },
   "outputs": [
    {
     "name": "stdout",
     "output_type": "stream",
     "text": [
      "Vocabulary size: 77605\n"
     ]
    }
   ],
   "source": [
    "# Apply the cleaning function and store the results directly\n",
    "train['cleaned_essay'] = train['text'].apply(clean_essay_spacy)\n",
    "test['cleaned_essay'] = test['text'].apply(clean_essay_spacy)\n",
    "org_train['cleaned_essay'] = org_train['text'].apply(clean_essay_spacy)\n",
    "\n",
    "# Initialize the tokenizer with an OOV token for unknown words\n",
    "tokenizer = Tokenizer(oov_token='<OOV>')\n",
    "\n",
    "# Prepare all texts from cleaned essays\n",
    "all_texts = train['cleaned_essay'].tolist() + test['cleaned_essay'].tolist() + org_train['cleaned_essay'].tolist()\n",
    "tokenizer.fit_on_texts(all_texts)\n",
    "\n",
    "# Vocabulary size (1 is added for the OOV token)\n",
    "vocabulary_size = len(tokenizer.word_index) + 1\n",
    "print(f\"Vocabulary size: {vocabulary_size}\")"
   ]
  },
  {
   "cell_type": "code",
   "execution_count": 4,
   "id": "26c4378b",
   "metadata": {
    "execution": {
     "iopub.execute_input": "2024-06-08T00:19:58.640168Z",
     "iopub.status.busy": "2024-06-08T00:19:58.639771Z",
     "iopub.status.idle": "2024-06-08T00:20:05.060963Z",
     "shell.execute_reply": "2024-06-08T00:20:05.059531Z"
    },
    "papermill": {
     "duration": 6.428785,
     "end_time": "2024-06-08T00:20:05.063872",
     "exception": false,
     "start_time": "2024-06-08T00:19:58.635087",
     "status": "completed"
    },
    "tags": []
   },
   "outputs": [],
   "source": [
    "# Convert texts to sequences of integers\n",
    "train_sequences = tokenizer.texts_to_sequences(train['cleaned_essay'])\n",
    "test_sequences = tokenizer.texts_to_sequences(test['cleaned_essay'])\n",
    "org_train_sequences = tokenizer.texts_to_sequences(org_train['cleaned_essay'])\n",
    "\n",
    "# Find the maximum length of sequences to set uniform input size\n",
    "max_length = max(max(len(seq) for seq in train_sequences), max(len(seq) for seq in test_sequences), max(len(seq) for seq in org_train_sequences))\n",
    "\n",
    "# Pad sequences to the same length\n",
    "train_padded = pad_sequences(train_sequences, maxlen=max_length)\n",
    "test_padded = pad_sequences(test_sequences, maxlen=max_length)\n",
    "org_train_padded = pad_sequences(org_train_sequences, maxlen=max_length)\n"
   ]
  },
  {
   "cell_type": "code",
   "execution_count": 5,
   "id": "6288753b",
   "metadata": {
    "execution": {
     "iopub.execute_input": "2024-06-08T00:20:05.072859Z",
     "iopub.status.busy": "2024-06-08T00:20:05.072384Z",
     "iopub.status.idle": "2024-06-08T00:45:33.147427Z",
     "shell.execute_reply": "2024-06-08T00:45:33.146411Z"
    },
    "papermill": {
     "duration": 1528.082582,
     "end_time": "2024-06-08T00:45:33.150092",
     "exception": false,
     "start_time": "2024-06-08T00:20:05.067510",
     "status": "completed"
    },
    "tags": []
   },
   "outputs": [
    {
     "name": "stderr",
     "output_type": "stream",
     "text": [
      "/opt/conda/lib/python3.10/site-packages/keras/src/layers/core/embedding.py:90: UserWarning: Argument `input_length` is deprecated. Just remove it.\n",
      "  warnings.warn(\n"
     ]
    },
    {
     "name": "stdout",
     "output_type": "stream",
     "text": [
      "Epoch 1/5\n",
      "\u001b[1m1262/1262\u001b[0m \u001b[32m━━━━━━━━━━━━━━━━━━━━\u001b[0m\u001b[37m\u001b[0m \u001b[1m299s\u001b[0m 235ms/step - accuracy: 0.9027 - loss: 0.2011 - val_accuracy: 0.8723 - val_loss: 0.3420\n",
      "Epoch 2/5\n",
      "\u001b[1m1262/1262\u001b[0m \u001b[32m━━━━━━━━━━━━━━━━━━━━\u001b[0m\u001b[37m\u001b[0m \u001b[1m321s\u001b[0m 235ms/step - accuracy: 0.9932 - loss: 0.0214 - val_accuracy: 0.9532 - val_loss: 0.1477\n",
      "Epoch 3/5\n",
      "\u001b[1m1262/1262\u001b[0m \u001b[32m━━━━━━━━━━━━━━━━━━━━\u001b[0m\u001b[37m\u001b[0m \u001b[1m293s\u001b[0m 232ms/step - accuracy: 0.9972 - loss: 0.0089 - val_accuracy: 0.9443 - val_loss: 0.1873\n",
      "Epoch 4/5\n",
      "\u001b[1m1262/1262\u001b[0m \u001b[32m━━━━━━━━━━━━━━━━━━━━\u001b[0m\u001b[37m\u001b[0m \u001b[1m322s\u001b[0m 232ms/step - accuracy: 0.9981 - loss: 0.0065 - val_accuracy: 0.7976 - val_loss: 0.9749\n",
      "Epoch 5/5\n",
      "\u001b[1m1262/1262\u001b[0m \u001b[32m━━━━━━━━━━━━━━━━━━━━\u001b[0m\u001b[37m\u001b[0m \u001b[1m293s\u001b[0m 232ms/step - accuracy: 0.9992 - loss: 0.0031 - val_accuracy: 0.8101 - val_loss: 0.8285\n"
     ]
    },
    {
     "data": {
      "text/plain": [
       "<keras.src.callbacks.history.History at 0x7afd3fe22110>"
      ]
     },
     "execution_count": 5,
     "metadata": {},
     "output_type": "execute_result"
    }
   ],
   "source": [
    "train_labels = train['label'].values\n",
    "\n",
    "# Set up the model\n",
    "model = Sequential([\n",
    "    Embedding(input_dim=vocabulary_size, output_dim=100, input_length=max_length),\n",
    "    Conv1D(filters=128, kernel_size=5, activation='relu'),\n",
    "    Conv1D(filters=64, kernel_size=5, activation='relu'),  # Second convolutional layer\n",
    "    GlobalMaxPooling1D(),\n",
    "    Dense(10, activation='relu'),\n",
    "    Dense(1, activation='sigmoid')\n",
    "])\n",
    "\n",
    "# Compile the model\n",
    "model.compile(optimizer='adam', loss='binary_crossentropy', metrics=['accuracy'])\n",
    "\n",
    "# Train the model\n",
    "model.fit(train_padded, train_labels, epochs=5, batch_size=32, validation_split=0.1)                                "
   ]
  },
  {
   "cell_type": "code",
   "execution_count": 6,
   "id": "72856d91",
   "metadata": {
    "execution": {
     "iopub.execute_input": "2024-06-08T00:45:34.366822Z",
     "iopub.status.busy": "2024-06-08T00:45:34.366394Z",
     "iopub.status.idle": "2024-06-08T00:45:34.551218Z",
     "shell.execute_reply": "2024-06-08T00:45:34.550054Z"
    },
    "papermill": {
     "duration": 0.794537,
     "end_time": "2024-06-08T00:45:34.553829",
     "exception": false,
     "start_time": "2024-06-08T00:45:33.759292",
     "status": "completed"
    },
    "tags": []
   },
   "outputs": [
    {
     "name": "stdout",
     "output_type": "stream",
     "text": [
      "\u001b[1m1/1\u001b[0m \u001b[32m━━━━━━━━━━━━━━━━━━━━\u001b[0m\u001b[37m\u001b[0m \u001b[1m0s\u001b[0m 117ms/step\n",
      "Submission saved to 'submission.csv'.\n"
     ]
    }
   ],
   "source": [
    "# Predict on the test set\n",
    "test_probabilities = model.predict(test_padded)\n",
    "\n",
    "# Assuming your test DataFrame has an 'id' column that you need to include in the submission\n",
    "submission_df = pd.DataFrame({\n",
    "    'id': test['id'],  # Replace 'id' with the appropriate column name for IDs in your test DataFrame\n",
    "    'probability': test_probabilities.flatten()  # Flatten to convert predictions from 2D to 1D if necessary\n",
    "})\n",
    "\n",
    "# Save the DataFrame to a CSV file\n",
    "submission_df.to_csv('submission.csv', index=False)\n",
    "\n",
    "print(\"Submission saved to 'submission.csv'.\")"
   ]
  }
 ],
 "metadata": {
  "kaggle": {
   "accelerator": "none",
   "dataSources": [
    {
     "databundleVersionId": 7516023,
     "sourceId": 61542,
     "sourceType": "competition"
    },
    {
     "datasetId": 5163625,
     "sourceId": 8625078,
     "sourceType": "datasetVersion"
    }
   ],
   "dockerImageVersionId": 30732,
   "isGpuEnabled": false,
   "isInternetEnabled": false,
   "language": "python",
   "sourceType": "notebook"
  },
  "kernelspec": {
   "display_name": "Python 3",
   "language": "python",
   "name": "python3"
  },
  "language_info": {
   "codemirror_mode": {
    "name": "ipython",
    "version": 3
   },
   "file_extension": ".py",
   "mimetype": "text/x-python",
   "name": "python",
   "nbconvert_exporter": "python",
   "pygments_lexer": "ipython3",
   "version": "3.10.13"
  },
  "papermill": {
   "default_parameters": {},
   "duration": 5025.160685,
   "end_time": "2024-06-08T00:45:38.710551",
   "environment_variables": {},
   "exception": null,
   "input_path": "__notebook__.ipynb",
   "output_path": "__notebook__.ipynb",
   "parameters": {},
   "start_time": "2024-06-07T23:21:53.549866",
   "version": "2.5.0"
  }
 },
 "nbformat": 4,
 "nbformat_minor": 5
}
