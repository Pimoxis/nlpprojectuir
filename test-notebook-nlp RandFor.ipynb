{
 "cells": [
  {
   "cell_type": "code",
   "execution_count": 1,
   "id": "a301146a",
   "metadata": {
    "_cell_guid": "b1076dfc-b9ad-4769-8c92-a6c4dae69d19",
    "_uuid": "8f2839f25d086af736a60e9eeb907d3b93b6e0e5",
    "execution": {
     "iopub.execute_input": "2024-06-08T11:43:19.903833Z",
     "iopub.status.busy": "2024-06-08T11:43:19.903359Z",
     "iopub.status.idle": "2024-06-08T11:43:43.218211Z",
     "shell.execute_reply": "2024-06-08T11:43:43.216747Z"
    },
    "papermill": {
     "duration": 23.322928,
     "end_time": "2024-06-08T11:43:43.220976",
     "exception": false,
     "start_time": "2024-06-08T11:43:19.898048",
     "status": "completed"
    },
    "tags": []
   },
   "outputs": [
    {
     "name": "stderr",
     "output_type": "stream",
     "text": [
      "2024-06-08 11:43:30.087262: E external/local_xla/xla/stream_executor/cuda/cuda_dnn.cc:9261] Unable to register cuDNN factory: Attempting to register factory for plugin cuDNN when one has already been registered\n",
      "2024-06-08 11:43:30.087379: E external/local_xla/xla/stream_executor/cuda/cuda_fft.cc:607] Unable to register cuFFT factory: Attempting to register factory for plugin cuFFT when one has already been registered\n",
      "2024-06-08 11:43:30.249924: E external/local_xla/xla/stream_executor/cuda/cuda_blas.cc:1515] Unable to register cuBLAS factory: Attempting to register factory for plugin cuBLAS when one has already been registered\n"
     ]
    }
   ],
   "source": [
    "import pandas as pd\n",
    "import torch\n",
    "import numpy as np\n",
    "from transformers import AutoTokenizer, AutoModelForSequenceClassification, Trainer\n",
    "import string\n",
    "import spacy\n",
    "from sklearn.model_selection import train_test_split\n",
    "from sklearn.feature_extraction.text import CountVectorizer, TfidfVectorizer\n",
    "from sklearn.preprocessing import LabelEncoder\n",
    "from sklearn.metrics import classification_report, confusion_matrix\n",
    "from tensorflow.keras.models import Sequential\n",
    "from tensorflow.keras.layers import Input, Dense, Dropout\n",
    "from tensorflow.keras.regularizers import l2\n",
    "from tensorflow.keras.optimizers import Adam\n",
    "from tensorflow.keras.layers import BatchNormalization\n",
    "from sklearn.linear_model import LogisticRegression"
   ]
  },
  {
   "cell_type": "code",
   "execution_count": 2,
   "id": "90dd98a6",
   "metadata": {
    "execution": {
     "iopub.execute_input": "2024-06-08T11:43:43.229790Z",
     "iopub.status.busy": "2024-06-08T11:43:43.229068Z",
     "iopub.status.idle": "2024-06-08T11:43:45.601374Z",
     "shell.execute_reply": "2024-06-08T11:43:45.600161Z"
    },
    "papermill": {
     "duration": 2.379824,
     "end_time": "2024-06-08T11:43:45.604406",
     "exception": false,
     "start_time": "2024-06-08T11:43:43.224582",
     "status": "completed"
    },
    "tags": []
   },
   "outputs": [],
   "source": [
    "#test set\n",
    "test = pd.read_csv('/kaggle/input/llm-detect-ai-generated-text/test_essays.csv')\n",
    "#submission format\n",
    "sub = pd.read_csv('/kaggle/input/llm-detect-ai-generated-text/sample_submission.csv')\n",
    "#import data train\n",
    "org_train = pd.read_csv('/kaggle/input/llm-detect-ai-generated-text/train_essays.csv')\n",
    "train = pd.read_csv(\"/kaggle/input/datasetllm/train_v2_drcat_02.csv\", sep=',')"
   ]
  },
  {
   "cell_type": "code",
   "execution_count": 3,
   "id": "b447e1a9",
   "metadata": {
    "execution": {
     "iopub.execute_input": "2024-06-08T11:43:45.612651Z",
     "iopub.status.busy": "2024-06-08T11:43:45.612244Z",
     "iopub.status.idle": "2024-06-08T11:43:46.973083Z",
     "shell.execute_reply": "2024-06-08T11:43:46.971852Z"
    },
    "papermill": {
     "duration": 1.368189,
     "end_time": "2024-06-08T11:43:46.975873",
     "exception": false,
     "start_time": "2024-06-08T11:43:45.607684",
     "status": "completed"
    },
    "tags": []
   },
   "outputs": [],
   "source": [
    "nlp = spacy.load(\"en_core_web_sm\")\n",
    "def clean_essay_spacy(essay):\n",
    "    # Remove punctuation and non-alphanumeric characters\n",
    "    essay = ''.join([char for char in essay if char not in string.punctuation and not char.isdigit()])\n",
    "\n",
    "    # Convert to lowercase and process with spaCy\n",
    "    doc = nlp(essay.lower())\n",
    "\n",
    "    # Lemmatization and removing stopwords\n",
    "    lemmatized_words = [token.lemma_ for token in doc if token.is_alpha and not token.is_stop]\n",
    "\n",
    "    # Remove extra spaces\n",
    "    cleaned_essay = ' '.join(lemmatized_words).strip()\n",
    "\n",
    "    return cleaned_essay"
   ]
  },
  {
   "cell_type": "code",
   "execution_count": 4,
   "id": "e0df5128",
   "metadata": {
    "execution": {
     "iopub.execute_input": "2024-06-08T11:43:46.984949Z",
     "iopub.status.busy": "2024-06-08T11:43:46.983735Z",
     "iopub.status.idle": "2024-06-08T12:29:47.645805Z",
     "shell.execute_reply": "2024-06-08T12:29:47.644276Z"
    },
    "papermill": {
     "duration": 2760.673462,
     "end_time": "2024-06-08T12:29:47.652566",
     "exception": false,
     "start_time": "2024-06-08T11:43:46.979104",
     "status": "completed"
    },
    "tags": []
   },
   "outputs": [
    {
     "name": "stdout",
     "output_type": "stream",
     "text": [
      "Vocabulary size: 77604\n"
     ]
    }
   ],
   "source": [
    "cleaned_train_essays = []\n",
    "cleaned_test_essays = []\n",
    "cleaned_org_train_essays = []\n",
    "\n",
    "train['cleaned_essay'] = train['text'].apply(clean_essay_spacy)\n",
    "cleaned_train_essays.extend(train['cleaned_essay'].tolist())\n",
    "\n",
    "test['cleaned_essay'] = test['text'].apply(clean_essay_spacy)\n",
    "cleaned_test_essays.extend(test['cleaned_essay'].tolist())\n",
    "\n",
    "org_train['cleaned_essay'] = org_train['text'].apply(clean_essay_spacy)\n",
    "cleaned_org_train_essays.extend(org_train['cleaned_essay'].tolist())\n",
    "\n",
    "# Build vocabulary of unique words from all cleaned essays\n",
    "all_cleaned_essays = cleaned_train_essays + cleaned_test_essays + cleaned_org_train_essays\n",
    "vocabulary = set(word for essay in all_cleaned_essays for word in essay.split())\n",
    "\n",
    "# Print the size of the vocabulary\n",
    "print(f\"Vocabulary size: {len(vocabulary)}\")"
   ]
  },
  {
   "cell_type": "code",
   "execution_count": 5,
   "id": "c0029ae2",
   "metadata": {
    "execution": {
     "iopub.execute_input": "2024-06-08T12:29:47.661543Z",
     "iopub.status.busy": "2024-06-08T12:29:47.661035Z",
     "iopub.status.idle": "2024-06-08T12:31:21.702568Z",
     "shell.execute_reply": "2024-06-08T12:31:21.701078Z"
    },
    "papermill": {
     "duration": 94.052038,
     "end_time": "2024-06-08T12:31:21.707913",
     "exception": false,
     "start_time": "2024-06-08T12:29:47.655875",
     "status": "completed"
    },
    "tags": []
   },
   "outputs": [
    {
     "name": "stdout",
     "output_type": "stream",
     "text": [
      "Train TF-IDF shape: (44868, 5840641)\n",
      "Test TF-IDF shape: (3, 5840641)\n",
      "Original Train TF-IDF shape: (1378, 5840641)\n"
     ]
    }
   ],
   "source": [
    "from sklearn.feature_extraction.text import TfidfVectorizer\n",
    "\n",
    "# Initialize the TfidfVectorizer\n",
    "tfidf_vectorizer = TfidfVectorizer(ngram_range=(1, 3))\n",
    "\n",
    "# Fit and transform the documents\n",
    "tfidf_matrix = tfidf_vectorizer.fit_transform(all_cleaned_essays)\n",
    "\n",
    "# Now, if you need to transform the documents separately after fitting to the whole corpus\n",
    "train_tfidf = tfidf_vectorizer.transform(cleaned_train_essays)\n",
    "test_tfidf = tfidf_vectorizer.transform(cleaned_test_essays)\n",
    "org_train_tfidf = tfidf_vectorizer.transform(cleaned_org_train_essays)\n",
    "\n",
    "# Print the shape of the matrices\n",
    "print(\"Train TF-IDF shape:\", train_tfidf.shape)\n",
    "print(\"Test TF-IDF shape:\", test_tfidf.shape)\n",
    "print(\"Original Train TF-IDF shape:\", org_train_tfidf.shape)"
   ]
  },
  {
   "cell_type": "code",
   "execution_count": 6,
   "id": "7baabb1c",
   "metadata": {
    "execution": {
     "iopub.execute_input": "2024-06-08T12:31:21.716863Z",
     "iopub.status.busy": "2024-06-08T12:31:21.715841Z",
     "iopub.status.idle": "2024-06-08T12:47:00.590008Z",
     "shell.execute_reply": "2024-06-08T12:47:00.588832Z"
    },
    "papermill": {
     "duration": 938.88437,
     "end_time": "2024-06-08T12:47:00.595598",
     "exception": false,
     "start_time": "2024-06-08T12:31:21.711228",
     "status": "completed"
    },
    "tags": []
   },
   "outputs": [
    {
     "data": {
      "text/html": [
       "<style>#sk-container-id-1 {color: black;background-color: white;}#sk-container-id-1 pre{padding: 0;}#sk-container-id-1 div.sk-toggleable {background-color: white;}#sk-container-id-1 label.sk-toggleable__label {cursor: pointer;display: block;width: 100%;margin-bottom: 0;padding: 0.3em;box-sizing: border-box;text-align: center;}#sk-container-id-1 label.sk-toggleable__label-arrow:before {content: \"▸\";float: left;margin-right: 0.25em;color: #696969;}#sk-container-id-1 label.sk-toggleable__label-arrow:hover:before {color: black;}#sk-container-id-1 div.sk-estimator:hover label.sk-toggleable__label-arrow:before {color: black;}#sk-container-id-1 div.sk-toggleable__content {max-height: 0;max-width: 0;overflow: hidden;text-align: left;background-color: #f0f8ff;}#sk-container-id-1 div.sk-toggleable__content pre {margin: 0.2em;color: black;border-radius: 0.25em;background-color: #f0f8ff;}#sk-container-id-1 input.sk-toggleable__control:checked~div.sk-toggleable__content {max-height: 200px;max-width: 100%;overflow: auto;}#sk-container-id-1 input.sk-toggleable__control:checked~label.sk-toggleable__label-arrow:before {content: \"▾\";}#sk-container-id-1 div.sk-estimator input.sk-toggleable__control:checked~label.sk-toggleable__label {background-color: #d4ebff;}#sk-container-id-1 div.sk-label input.sk-toggleable__control:checked~label.sk-toggleable__label {background-color: #d4ebff;}#sk-container-id-1 input.sk-hidden--visually {border: 0;clip: rect(1px 1px 1px 1px);clip: rect(1px, 1px, 1px, 1px);height: 1px;margin: -1px;overflow: hidden;padding: 0;position: absolute;width: 1px;}#sk-container-id-1 div.sk-estimator {font-family: monospace;background-color: #f0f8ff;border: 1px dotted black;border-radius: 0.25em;box-sizing: border-box;margin-bottom: 0.5em;}#sk-container-id-1 div.sk-estimator:hover {background-color: #d4ebff;}#sk-container-id-1 div.sk-parallel-item::after {content: \"\";width: 100%;border-bottom: 1px solid gray;flex-grow: 1;}#sk-container-id-1 div.sk-label:hover label.sk-toggleable__label {background-color: #d4ebff;}#sk-container-id-1 div.sk-serial::before {content: \"\";position: absolute;border-left: 1px solid gray;box-sizing: border-box;top: 0;bottom: 0;left: 50%;z-index: 0;}#sk-container-id-1 div.sk-serial {display: flex;flex-direction: column;align-items: center;background-color: white;padding-right: 0.2em;padding-left: 0.2em;position: relative;}#sk-container-id-1 div.sk-item {position: relative;z-index: 1;}#sk-container-id-1 div.sk-parallel {display: flex;align-items: stretch;justify-content: center;background-color: white;position: relative;}#sk-container-id-1 div.sk-item::before, #sk-container-id-1 div.sk-parallel-item::before {content: \"\";position: absolute;border-left: 1px solid gray;box-sizing: border-box;top: 0;bottom: 0;left: 50%;z-index: -1;}#sk-container-id-1 div.sk-parallel-item {display: flex;flex-direction: column;z-index: 1;position: relative;background-color: white;}#sk-container-id-1 div.sk-parallel-item:first-child::after {align-self: flex-end;width: 50%;}#sk-container-id-1 div.sk-parallel-item:last-child::after {align-self: flex-start;width: 50%;}#sk-container-id-1 div.sk-parallel-item:only-child::after {width: 0;}#sk-container-id-1 div.sk-dashed-wrapped {border: 1px dashed gray;margin: 0 0.4em 0.5em 0.4em;box-sizing: border-box;padding-bottom: 0.4em;background-color: white;}#sk-container-id-1 div.sk-label label {font-family: monospace;font-weight: bold;display: inline-block;line-height: 1.2em;}#sk-container-id-1 div.sk-label-container {text-align: center;}#sk-container-id-1 div.sk-container {/* jupyter's `normalize.less` sets `[hidden] { display: none; }` but bootstrap.min.css set `[hidden] { display: none !important; }` so we also need the `!important` here to be able to override the default hidden behavior on the sphinx rendered scikit-learn.org. See: https://github.com/scikit-learn/scikit-learn/issues/21755 */display: inline-block !important;position: relative;}#sk-container-id-1 div.sk-text-repr-fallback {display: none;}</style><div id=\"sk-container-id-1\" class=\"sk-top-container\"><div class=\"sk-text-repr-fallback\"><pre>RandomForestClassifier(random_state=42)</pre><b>In a Jupyter environment, please rerun this cell to show the HTML representation or trust the notebook. <br />On GitHub, the HTML representation is unable to render, please try loading this page with nbviewer.org.</b></div><div class=\"sk-container\" hidden><div class=\"sk-item\"><div class=\"sk-estimator sk-toggleable\"><input class=\"sk-toggleable__control sk-hidden--visually\" id=\"sk-estimator-id-1\" type=\"checkbox\" checked><label for=\"sk-estimator-id-1\" class=\"sk-toggleable__label sk-toggleable__label-arrow\">RandomForestClassifier</label><div class=\"sk-toggleable__content\"><pre>RandomForestClassifier(random_state=42)</pre></div></div></div></div></div>"
      ],
      "text/plain": [
       "RandomForestClassifier(random_state=42)"
      ]
     },
     "execution_count": 6,
     "metadata": {},
     "output_type": "execute_result"
    }
   ],
   "source": [
    "from sklearn.ensemble import RandomForestClassifier\n",
    "\n",
    "\n",
    "y_train = train['label'].values\n",
    "\n",
    "# Initialize the Random Forest classifier\n",
    "model = RandomForestClassifier(n_estimators=100, random_state=42)\n",
    "\n",
    "model.fit(train_tfidf, y_train)"
   ]
  },
  {
   "cell_type": "code",
   "execution_count": 7,
   "id": "94810109",
   "metadata": {
    "execution": {
     "iopub.execute_input": "2024-06-08T12:47:00.604180Z",
     "iopub.status.busy": "2024-06-08T12:47:00.603757Z",
     "iopub.status.idle": "2024-06-08T12:47:04.191122Z",
     "shell.execute_reply": "2024-06-08T12:47:04.190001Z"
    },
    "papermill": {
     "duration": 3.594857,
     "end_time": "2024-06-08T12:47:04.193915",
     "exception": false,
     "start_time": "2024-06-08T12:47:00.599058",
     "status": "completed"
    },
    "tags": []
   },
   "outputs": [],
   "source": [
    "import pandas as pd\n",
    "\n",
    "# Predict on the test set:\n",
    "test_predictions = model.predict_proba(test_tfidf)[:, 1]\n",
    "\n",
    "\n",
    "output_df = pd.DataFrame({\n",
    "    'id': test['id'],  # Ensure this matches the column name for the IDs in your test DataFrame\n",
    "    'probability': test_predictions  # This will be your model's predictions\n",
    "})\n",
    "\n",
    "# Save the updated DataFrame to a CSV file, ready for submission\n",
    "output_df.to_csv('submission.csv', index=False)"
   ]
  },
  {
   "cell_type": "code",
   "execution_count": null,
   "id": "c5b3a756",
   "metadata": {
    "papermill": {
     "duration": 0.003144,
     "end_time": "2024-06-08T12:47:04.200663",
     "exception": false,
     "start_time": "2024-06-08T12:47:04.197519",
     "status": "completed"
    },
    "tags": []
   },
   "outputs": [],
   "source": []
  }
 ],
 "metadata": {
  "kaggle": {
   "accelerator": "none",
   "dataSources": [
    {
     "databundleVersionId": 7516023,
     "sourceId": 61542,
     "sourceType": "competition"
    },
    {
     "datasetId": 5163625,
     "sourceId": 8625078,
     "sourceType": "datasetVersion"
    }
   ],
   "dockerImageVersionId": 30732,
   "isGpuEnabled": false,
   "isInternetEnabled": false,
   "language": "python",
   "sourceType": "notebook"
  },
  "kernelspec": {
   "display_name": "Python 3",
   "language": "python",
   "name": "python3"
  },
  "language_info": {
   "codemirror_mode": {
    "name": "ipython",
    "version": 3
   },
   "file_extension": ".py",
   "mimetype": "text/x-python",
   "name": "python",
   "nbconvert_exporter": "python",
   "pygments_lexer": "ipython3",
   "version": "3.10.13"
  },
  "papermill": {
   "default_parameters": {},
   "duration": 3830.178803,
   "end_time": "2024-06-08T12:47:06.830913",
   "environment_variables": {},
   "exception": null,
   "input_path": "__notebook__.ipynb",
   "output_path": "__notebook__.ipynb",
   "parameters": {},
   "start_time": "2024-06-08T11:43:16.652110",
   "version": "2.5.0"
  }
 },
 "nbformat": 4,
 "nbformat_minor": 5
}
