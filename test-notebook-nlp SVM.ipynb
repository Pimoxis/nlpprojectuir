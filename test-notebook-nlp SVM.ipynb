{
 "cells": [
  {
   "cell_type": "code",
   "execution_count": 1,
   "id": "be82ee43",
   "metadata": {
    "_cell_guid": "b1076dfc-b9ad-4769-8c92-a6c4dae69d19",
    "_uuid": "8f2839f25d086af736a60e9eeb907d3b93b6e0e5",
    "execution": {
     "iopub.execute_input": "2024-06-07T18:54:33.809285Z",
     "iopub.status.busy": "2024-06-07T18:54:33.808903Z",
     "iopub.status.idle": "2024-06-07T18:54:59.534769Z",
     "shell.execute_reply": "2024-06-07T18:54:59.533375Z"
    },
    "papermill": {
     "duration": 25.735076,
     "end_time": "2024-06-07T18:54:59.537671",
     "exception": false,
     "start_time": "2024-06-07T18:54:33.802595",
     "status": "completed"
    },
    "tags": []
   },
   "outputs": [
    {
     "name": "stderr",
     "output_type": "stream",
     "text": [
      "2024-06-07 18:54:45.437744: E external/local_xla/xla/stream_executor/cuda/cuda_dnn.cc:9261] Unable to register cuDNN factory: Attempting to register factory for plugin cuDNN when one has already been registered\n",
      "2024-06-07 18:54:45.437881: E external/local_xla/xla/stream_executor/cuda/cuda_fft.cc:607] Unable to register cuFFT factory: Attempting to register factory for plugin cuFFT when one has already been registered\n",
      "2024-06-07 18:54:45.612926: E external/local_xla/xla/stream_executor/cuda/cuda_blas.cc:1515] Unable to register cuBLAS factory: Attempting to register factory for plugin cuBLAS when one has already been registered\n"
     ]
    }
   ],
   "source": [
    "import pandas as pd\n",
    "import torch\n",
    "import numpy as np\n",
    "from transformers import AutoTokenizer, AutoModelForSequenceClassification, Trainer\n",
    "import string\n",
    "import spacy\n",
    "from sklearn.model_selection import train_test_split\n",
    "from sklearn.feature_extraction.text import CountVectorizer, TfidfVectorizer\n",
    "from sklearn.preprocessing import LabelEncoder\n",
    "from sklearn.metrics import classification_report, confusion_matrix\n",
    "from tensorflow.keras.models import Sequential\n",
    "from tensorflow.keras.layers import Input, Dense, Dropout\n",
    "from tensorflow.keras.regularizers import l2\n",
    "from tensorflow.keras.optimizers import Adam\n",
    "from tensorflow.keras.layers import BatchNormalization\n",
    "from sklearn.linear_model import LogisticRegression"
   ]
  },
  {
   "cell_type": "code",
   "execution_count": 2,
   "id": "5001ed07",
   "metadata": {
    "execution": {
     "iopub.execute_input": "2024-06-07T18:54:59.548036Z",
     "iopub.status.busy": "2024-06-07T18:54:59.547238Z",
     "iopub.status.idle": "2024-06-07T18:55:01.944329Z",
     "shell.execute_reply": "2024-06-07T18:55:01.943221Z"
    },
    "papermill": {
     "duration": 2.405166,
     "end_time": "2024-06-07T18:55:01.947083",
     "exception": false,
     "start_time": "2024-06-07T18:54:59.541917",
     "status": "completed"
    },
    "tags": []
   },
   "outputs": [],
   "source": [
    "#test set\n",
    "test = pd.read_csv('/kaggle/input/llm-detect-ai-generated-text/test_essays.csv')\n",
    "#submission format\n",
    "sub = pd.read_csv('/kaggle/input/llm-detect-ai-generated-text/sample_submission.csv')\n",
    "#import data train\n",
    "org_train = pd.read_csv('/kaggle/input/llm-detect-ai-generated-text/train_essays.csv')\n",
    "train = pd.read_csv(\"/kaggle/input/datasetllm/train_v2_drcat_02.csv\", sep=',')"
   ]
  },
  {
   "cell_type": "code",
   "execution_count": 3,
   "id": "f51b7de0",
   "metadata": {
    "execution": {
     "iopub.execute_input": "2024-06-07T18:55:01.957858Z",
     "iopub.status.busy": "2024-06-07T18:55:01.956637Z",
     "iopub.status.idle": "2024-06-07T18:55:03.760604Z",
     "shell.execute_reply": "2024-06-07T18:55:03.759378Z"
    },
    "papermill": {
     "duration": 1.812141,
     "end_time": "2024-06-07T18:55:03.763356",
     "exception": false,
     "start_time": "2024-06-07T18:55:01.951215",
     "status": "completed"
    },
    "tags": []
   },
   "outputs": [],
   "source": [
    "nlp = spacy.load(\"en_core_web_sm\")\n",
    "def clean_essay_spacy(essay):\n",
    "    # Remove punctuation and non-alphanumeric characters\n",
    "    essay = ''.join([char for char in essay if char not in string.punctuation and not char.isdigit()])\n",
    "\n",
    "    # Convert to lowercase and process with spaCy\n",
    "    doc = nlp(essay.lower())\n",
    "\n",
    "    # Lemmatization and removing stopwords\n",
    "    lemmatized_words = [token.lemma_ for token in doc if token.is_alpha and not token.is_stop]\n",
    "\n",
    "    # Remove extra spaces\n",
    "    cleaned_essay = ' '.join(lemmatized_words).strip()\n",
    "\n",
    "    return cleaned_essay"
   ]
  },
  {
   "cell_type": "code",
   "execution_count": 4,
   "id": "ff817a45",
   "metadata": {
    "execution": {
     "iopub.execute_input": "2024-06-07T18:55:03.773717Z",
     "iopub.status.busy": "2024-06-07T18:55:03.773282Z",
     "iopub.status.idle": "2024-06-07T19:53:43.307021Z",
     "shell.execute_reply": "2024-06-07T19:53:43.305407Z"
    },
    "papermill": {
     "duration": 3519.552696,
     "end_time": "2024-06-07T19:53:43.320160",
     "exception": false,
     "start_time": "2024-06-07T18:55:03.767464",
     "status": "completed"
    },
    "tags": []
   },
   "outputs": [
    {
     "name": "stdout",
     "output_type": "stream",
     "text": [
      "Vocabulary size: 77604\n"
     ]
    }
   ],
   "source": [
    "cleaned_train_essays = []\n",
    "cleaned_test_essays = []\n",
    "cleaned_org_train_essays = []\n",
    "\n",
    "train['cleaned_essay'] = train['text'].apply(clean_essay_spacy)\n",
    "cleaned_train_essays.extend(train['cleaned_essay'].tolist())\n",
    "\n",
    "test['cleaned_essay'] = test['text'].apply(clean_essay_spacy)\n",
    "cleaned_test_essays.extend(test['cleaned_essay'].tolist())\n",
    "\n",
    "org_train['cleaned_essay'] = org_train['text'].apply(clean_essay_spacy)\n",
    "cleaned_org_train_essays.extend(org_train['cleaned_essay'].tolist())\n",
    "\n",
    "# Build vocabulary of unique words from all cleaned essays\n",
    "all_cleaned_essays = cleaned_train_essays + cleaned_test_essays + cleaned_org_train_essays\n",
    "vocabulary = set(word for essay in all_cleaned_essays for word in essay.split())\n",
    "\n",
    "# Print the size of the vocabulary\n",
    "print(f\"Vocabulary size: {len(vocabulary)}\")"
   ]
  },
  {
   "cell_type": "code",
   "execution_count": 5,
   "id": "0e5e5e97",
   "metadata": {
    "execution": {
     "iopub.execute_input": "2024-06-07T19:53:43.331881Z",
     "iopub.status.busy": "2024-06-07T19:53:43.331425Z",
     "iopub.status.idle": "2024-06-07T19:53:43.338670Z",
     "shell.execute_reply": "2024-06-07T19:53:43.337105Z"
    },
    "papermill": {
     "duration": 0.016674,
     "end_time": "2024-06-07T19:53:43.341576",
     "exception": false,
     "start_time": "2024-06-07T19:53:43.324902",
     "status": "completed"
    },
    "tags": []
   },
   "outputs": [],
   "source": [
    "from sklearn.feature_extraction.text import TfidfVectorizer\n",
    "\n",
    "# Initialize the TfidfVectorizer\n",
    "#tfidf_vectorizer = TfidfVectorizer(ngram_range=(1, 3))\n",
    "\n",
    "# Fit and transform the documents\n",
    "#tfidf_matrix = tfidf_vectorizer.fit_transform(all_cleaned_essays)\n",
    "\n",
    "# Now, if you need to transform the documents separately after fitting to the whole corpus\n",
    "#train_tfidf = tfidf_vectorizer.transform(cleaned_train_essays)\n",
    "#test_tfidf = tfidf_vectorizer.transform(cleaned_test_essays)\n",
    "#org_train_tfidf = tfidf_vectorizer.transform(cleaned_org_train_essays)\n",
    "\n",
    "# Print the shape of the matrices\n",
    "#print(\"Train TF-IDF shape:\", train_tfidf.shape)\n",
    "#print(\"Test TF-IDF shape:\", test_tfidf.shape)\n",
    "#print(\"Original Train TF-IDF shape:\", org_train_tfidf.shape)"
   ]
  },
  {
   "cell_type": "code",
   "execution_count": 6,
   "id": "fb30ab8f",
   "metadata": {
    "execution": {
     "iopub.execute_input": "2024-06-07T19:53:43.352204Z",
     "iopub.status.busy": "2024-06-07T19:53:43.351761Z",
     "iopub.status.idle": "2024-06-08T00:55:30.197601Z",
     "shell.execute_reply": "2024-06-08T00:55:30.196209Z"
    },
    "papermill": {
     "duration": 18106.86013,
     "end_time": "2024-06-08T00:55:30.206135",
     "exception": false,
     "start_time": "2024-06-07T19:53:43.346005",
     "status": "completed"
    },
    "tags": []
   },
   "outputs": [
    {
     "data": {
      "text/html": [
       "<style>#sk-container-id-1 {color: black;background-color: white;}#sk-container-id-1 pre{padding: 0;}#sk-container-id-1 div.sk-toggleable {background-color: white;}#sk-container-id-1 label.sk-toggleable__label {cursor: pointer;display: block;width: 100%;margin-bottom: 0;padding: 0.3em;box-sizing: border-box;text-align: center;}#sk-container-id-1 label.sk-toggleable__label-arrow:before {content: \"▸\";float: left;margin-right: 0.25em;color: #696969;}#sk-container-id-1 label.sk-toggleable__label-arrow:hover:before {color: black;}#sk-container-id-1 div.sk-estimator:hover label.sk-toggleable__label-arrow:before {color: black;}#sk-container-id-1 div.sk-toggleable__content {max-height: 0;max-width: 0;overflow: hidden;text-align: left;background-color: #f0f8ff;}#sk-container-id-1 div.sk-toggleable__content pre {margin: 0.2em;color: black;border-radius: 0.25em;background-color: #f0f8ff;}#sk-container-id-1 input.sk-toggleable__control:checked~div.sk-toggleable__content {max-height: 200px;max-width: 100%;overflow: auto;}#sk-container-id-1 input.sk-toggleable__control:checked~label.sk-toggleable__label-arrow:before {content: \"▾\";}#sk-container-id-1 div.sk-estimator input.sk-toggleable__control:checked~label.sk-toggleable__label {background-color: #d4ebff;}#sk-container-id-1 div.sk-label input.sk-toggleable__control:checked~label.sk-toggleable__label {background-color: #d4ebff;}#sk-container-id-1 input.sk-hidden--visually {border: 0;clip: rect(1px 1px 1px 1px);clip: rect(1px, 1px, 1px, 1px);height: 1px;margin: -1px;overflow: hidden;padding: 0;position: absolute;width: 1px;}#sk-container-id-1 div.sk-estimator {font-family: monospace;background-color: #f0f8ff;border: 1px dotted black;border-radius: 0.25em;box-sizing: border-box;margin-bottom: 0.5em;}#sk-container-id-1 div.sk-estimator:hover {background-color: #d4ebff;}#sk-container-id-1 div.sk-parallel-item::after {content: \"\";width: 100%;border-bottom: 1px solid gray;flex-grow: 1;}#sk-container-id-1 div.sk-label:hover label.sk-toggleable__label {background-color: #d4ebff;}#sk-container-id-1 div.sk-serial::before {content: \"\";position: absolute;border-left: 1px solid gray;box-sizing: border-box;top: 0;bottom: 0;left: 50%;z-index: 0;}#sk-container-id-1 div.sk-serial {display: flex;flex-direction: column;align-items: center;background-color: white;padding-right: 0.2em;padding-left: 0.2em;position: relative;}#sk-container-id-1 div.sk-item {position: relative;z-index: 1;}#sk-container-id-1 div.sk-parallel {display: flex;align-items: stretch;justify-content: center;background-color: white;position: relative;}#sk-container-id-1 div.sk-item::before, #sk-container-id-1 div.sk-parallel-item::before {content: \"\";position: absolute;border-left: 1px solid gray;box-sizing: border-box;top: 0;bottom: 0;left: 50%;z-index: -1;}#sk-container-id-1 div.sk-parallel-item {display: flex;flex-direction: column;z-index: 1;position: relative;background-color: white;}#sk-container-id-1 div.sk-parallel-item:first-child::after {align-self: flex-end;width: 50%;}#sk-container-id-1 div.sk-parallel-item:last-child::after {align-self: flex-start;width: 50%;}#sk-container-id-1 div.sk-parallel-item:only-child::after {width: 0;}#sk-container-id-1 div.sk-dashed-wrapped {border: 1px dashed gray;margin: 0 0.4em 0.5em 0.4em;box-sizing: border-box;padding-bottom: 0.4em;background-color: white;}#sk-container-id-1 div.sk-label label {font-family: monospace;font-weight: bold;display: inline-block;line-height: 1.2em;}#sk-container-id-1 div.sk-label-container {text-align: center;}#sk-container-id-1 div.sk-container {/* jupyter's `normalize.less` sets `[hidden] { display: none; }` but bootstrap.min.css set `[hidden] { display: none !important; }` so we also need the `!important` here to be able to override the default hidden behavior on the sphinx rendered scikit-learn.org. See: https://github.com/scikit-learn/scikit-learn/issues/21755 */display: inline-block !important;position: relative;}#sk-container-id-1 div.sk-text-repr-fallback {display: none;}</style><div id=\"sk-container-id-1\" class=\"sk-top-container\"><div class=\"sk-text-repr-fallback\"><pre>Pipeline(steps=[(&#x27;tfidfvectorizer&#x27;, TfidfVectorizer(ngram_range=(1, 3))),\n",
       "                (&#x27;svc&#x27;, SVC(kernel=&#x27;linear&#x27;, probability=True))])</pre><b>In a Jupyter environment, please rerun this cell to show the HTML representation or trust the notebook. <br />On GitHub, the HTML representation is unable to render, please try loading this page with nbviewer.org.</b></div><div class=\"sk-container\" hidden><div class=\"sk-item sk-dashed-wrapped\"><div class=\"sk-label-container\"><div class=\"sk-label sk-toggleable\"><input class=\"sk-toggleable__control sk-hidden--visually\" id=\"sk-estimator-id-1\" type=\"checkbox\" ><label for=\"sk-estimator-id-1\" class=\"sk-toggleable__label sk-toggleable__label-arrow\">Pipeline</label><div class=\"sk-toggleable__content\"><pre>Pipeline(steps=[(&#x27;tfidfvectorizer&#x27;, TfidfVectorizer(ngram_range=(1, 3))),\n",
       "                (&#x27;svc&#x27;, SVC(kernel=&#x27;linear&#x27;, probability=True))])</pre></div></div></div><div class=\"sk-serial\"><div class=\"sk-item\"><div class=\"sk-estimator sk-toggleable\"><input class=\"sk-toggleable__control sk-hidden--visually\" id=\"sk-estimator-id-2\" type=\"checkbox\" ><label for=\"sk-estimator-id-2\" class=\"sk-toggleable__label sk-toggleable__label-arrow\">TfidfVectorizer</label><div class=\"sk-toggleable__content\"><pre>TfidfVectorizer(ngram_range=(1, 3))</pre></div></div></div><div class=\"sk-item\"><div class=\"sk-estimator sk-toggleable\"><input class=\"sk-toggleable__control sk-hidden--visually\" id=\"sk-estimator-id-3\" type=\"checkbox\" ><label for=\"sk-estimator-id-3\" class=\"sk-toggleable__label sk-toggleable__label-arrow\">SVC</label><div class=\"sk-toggleable__content\"><pre>SVC(kernel=&#x27;linear&#x27;, probability=True)</pre></div></div></div></div></div></div></div>"
      ],
      "text/plain": [
       "Pipeline(steps=[('tfidfvectorizer', TfidfVectorizer(ngram_range=(1, 3))),\n",
       "                ('svc', SVC(kernel='linear', probability=True))])"
      ]
     },
     "execution_count": 6,
     "metadata": {},
     "output_type": "execute_result"
    }
   ],
   "source": [
    "from sklearn.svm import SVC\n",
    "from sklearn.pipeline import make_pipeline\n",
    "\n",
    "y_train = train['label'].values\n",
    "\n",
    "pipeline = make_pipeline(\n",
    "    TfidfVectorizer(ngram_range=(1, 3)),\n",
    "    SVC(kernel='linear', probability=True)\n",
    ")\n",
    "\n",
    "pipeline.fit(train['cleaned_essay'], y_train)"
   ]
  },
  {
   "cell_type": "code",
   "execution_count": 7,
   "id": "2467f699",
   "metadata": {
    "execution": {
     "iopub.execute_input": "2024-06-08T00:55:30.217230Z",
     "iopub.status.busy": "2024-06-08T00:55:30.216805Z",
     "iopub.status.idle": "2024-06-08T00:55:30.457007Z",
     "shell.execute_reply": "2024-06-08T00:55:30.455672Z"
    },
    "papermill": {
     "duration": 0.249364,
     "end_time": "2024-06-08T00:55:30.459985",
     "exception": false,
     "start_time": "2024-06-08T00:55:30.210621",
     "status": "completed"
    },
    "tags": []
   },
   "outputs": [],
   "source": [
    "import pandas as pd\n",
    "\n",
    "# Predict on the test set:\n",
    "test_predictions = pipeline.predict_proba(test['cleaned_essay'])[:, 1]\n",
    "\n",
    "\n",
    "output_df = pd.DataFrame({\n",
    "    'id': test['id'],  # Ensure this matches the column name for the IDs in your test DataFrame\n",
    "    'probability': test_predictions  # This will be your model's predictions\n",
    "})\n",
    "\n",
    "# Save the updated DataFrame to a CSV file, ready for submission\n",
    "output_df.to_csv('submission.csv', index=False)"
   ]
  },
  {
   "cell_type": "code",
   "execution_count": null,
   "id": "907b0785",
   "metadata": {
    "papermill": {
     "duration": 0.00421,
     "end_time": "2024-06-08T00:55:30.468937",
     "exception": false,
     "start_time": "2024-06-08T00:55:30.464727",
     "status": "completed"
    },
    "tags": []
   },
   "outputs": [],
   "source": []
  }
 ],
 "metadata": {
  "kaggle": {
   "accelerator": "none",
   "dataSources": [
    {
     "databundleVersionId": 7516023,
     "sourceId": 61542,
     "sourceType": "competition"
    },
    {
     "datasetId": 5163625,
     "sourceId": 8625078,
     "sourceType": "datasetVersion"
    }
   ],
   "dockerImageVersionId": 30732,
   "isGpuEnabled": false,
   "isInternetEnabled": false,
   "language": "python",
   "sourceType": "notebook"
  },
  "kernelspec": {
   "display_name": "Python 3",
   "language": "python",
   "name": "python3"
  },
  "language_info": {
   "codemirror_mode": {
    "name": "ipython",
    "version": 3
   },
   "file_extension": ".py",
   "mimetype": "text/x-python",
   "name": "python",
   "nbconvert_exporter": "python",
   "pygments_lexer": "ipython3",
   "version": "3.10.13"
  },
  "papermill": {
   "default_parameters": {},
   "duration": 21662.662697,
   "end_time": "2024-06-08T00:55:33.347653",
   "environment_variables": {},
   "exception": null,
   "input_path": "__notebook__.ipynb",
   "output_path": "__notebook__.ipynb",
   "parameters": {},
   "start_time": "2024-06-07T18:54:30.684956",
   "version": "2.5.0"
  }
 },
 "nbformat": 4,
 "nbformat_minor": 5
}
